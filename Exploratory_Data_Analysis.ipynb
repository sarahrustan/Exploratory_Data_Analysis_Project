{
 "cells": [
  {
   "cell_type": "markdown",
   "metadata": {},
   "source": [
    "# Exploratory Data Analysis: World Development Indicators"
   ]
  },
  {
   "cell_type": "markdown",
   "metadata": {},
   "source": [
    "## Explore renewable energy consumption and its relationship with gross domestic income in the US"
   ]
  },
  {
   "cell_type": "markdown",
   "metadata": {},
   "source": [
    "EXISTING VARIABLES:\n",
    "Renewable energy consumption (% of total final energy consumption): EG.FEC.RNEW.ZS (1990-2012);\n",
    "Gross domestic income (constant 2005 USdollar): NY.GDY.TOTL.KD (1960-2014);\n",
    "year variable: Year;\n",
    "country variable: CountryCode"
   ]
  },
  {
   "cell_type": "markdown",
   "metadata": {},
   "source": [
    "dataset source: https://www.kaggle.com/worldbank/world-development-indicators"
   ]
  },
  {
   "cell_type": "markdown",
   "metadata": {},
   "source": [
    "Import libraries: pandas, numpy, matplotlib.pyplot"
   ]
  },
  {
   "cell_type": "code",
   "execution_count": 1,
   "metadata": {},
   "outputs": [],
   "source": [
    "import pandas as pd\n",
    "import numpy as np\n",
    "import matplotlib.pyplot as plt"
   ]
  },
  {
   "cell_type": "markdown",
   "metadata": {},
   "source": [
    "Read in World Development Indicators dataset"
   ]
  },
  {
   "cell_type": "code",
   "execution_count": 2,
   "metadata": {},
   "outputs": [],
   "source": [
    "data = pd.read_csv('.\\world-development-indicators\\Indicators.csv')"
   ]
  },
  {
   "cell_type": "markdown",
   "metadata": {},
   "source": [
    "Check dataset shape"
   ]
  },
  {
   "cell_type": "code",
   "execution_count": 3,
   "metadata": {},
   "outputs": [
    {
     "data": {
      "text/plain": [
       "(5656458, 6)"
      ]
     },
     "execution_count": 3,
     "metadata": {},
     "output_type": "execute_result"
    }
   ],
   "source": [
    "data.shape"
   ]
  },
  {
   "cell_type": "code",
   "execution_count": 3,
   "metadata": {},
   "outputs": [
    {
     "data": {
      "text/html": [
       "<div>\n",
       "<style scoped>\n",
       "    .dataframe tbody tr th:only-of-type {\n",
       "        vertical-align: middle;\n",
       "    }\n",
       "\n",
       "    .dataframe tbody tr th {\n",
       "        vertical-align: top;\n",
       "    }\n",
       "\n",
       "    .dataframe thead th {\n",
       "        text-align: right;\n",
       "    }\n",
       "</style>\n",
       "<table border=\"1\" class=\"dataframe\">\n",
       "  <thead>\n",
       "    <tr style=\"text-align: right;\">\n",
       "      <th></th>\n",
       "      <th>CountryName</th>\n",
       "      <th>CountryCode</th>\n",
       "      <th>IndicatorName</th>\n",
       "      <th>IndicatorCode</th>\n",
       "      <th>Year</th>\n",
       "      <th>Value</th>\n",
       "    </tr>\n",
       "  </thead>\n",
       "  <tbody>\n",
       "    <tr>\n",
       "      <th>0</th>\n",
       "      <td>Arab World</td>\n",
       "      <td>ARB</td>\n",
       "      <td>Adolescent fertility rate (births per 1,000 wo...</td>\n",
       "      <td>SP.ADO.TFRT</td>\n",
       "      <td>1960</td>\n",
       "      <td>1.335609e+02</td>\n",
       "    </tr>\n",
       "    <tr>\n",
       "      <th>1</th>\n",
       "      <td>Arab World</td>\n",
       "      <td>ARB</td>\n",
       "      <td>Age dependency ratio (% of working-age populat...</td>\n",
       "      <td>SP.POP.DPND</td>\n",
       "      <td>1960</td>\n",
       "      <td>8.779760e+01</td>\n",
       "    </tr>\n",
       "    <tr>\n",
       "      <th>2</th>\n",
       "      <td>Arab World</td>\n",
       "      <td>ARB</td>\n",
       "      <td>Age dependency ratio, old (% of working-age po...</td>\n",
       "      <td>SP.POP.DPND.OL</td>\n",
       "      <td>1960</td>\n",
       "      <td>6.634579e+00</td>\n",
       "    </tr>\n",
       "    <tr>\n",
       "      <th>3</th>\n",
       "      <td>Arab World</td>\n",
       "      <td>ARB</td>\n",
       "      <td>Age dependency ratio, young (% of working-age ...</td>\n",
       "      <td>SP.POP.DPND.YG</td>\n",
       "      <td>1960</td>\n",
       "      <td>8.102333e+01</td>\n",
       "    </tr>\n",
       "    <tr>\n",
       "      <th>4</th>\n",
       "      <td>Arab World</td>\n",
       "      <td>ARB</td>\n",
       "      <td>Arms exports (SIPRI trend indicator values)</td>\n",
       "      <td>MS.MIL.XPRT.KD</td>\n",
       "      <td>1960</td>\n",
       "      <td>3.000000e+06</td>\n",
       "    </tr>\n",
       "  </tbody>\n",
       "</table>\n",
       "</div>"
      ],
      "text/plain": [
       "  CountryName CountryCode                                      IndicatorName  \\\n",
       "0  Arab World         ARB  Adolescent fertility rate (births per 1,000 wo...   \n",
       "1  Arab World         ARB  Age dependency ratio (% of working-age populat...   \n",
       "2  Arab World         ARB  Age dependency ratio, old (% of working-age po...   \n",
       "3  Arab World         ARB  Age dependency ratio, young (% of working-age ...   \n",
       "4  Arab World         ARB        Arms exports (SIPRI trend indicator values)   \n",
       "\n",
       "    IndicatorCode  Year         Value  \n",
       "0     SP.ADO.TFRT  1960  1.335609e+02  \n",
       "1     SP.POP.DPND  1960  8.779760e+01  \n",
       "2  SP.POP.DPND.OL  1960  6.634579e+00  \n",
       "3  SP.POP.DPND.YG  1960  8.102333e+01  \n",
       "4  MS.MIL.XPRT.KD  1960  3.000000e+06  "
      ]
     },
     "execution_count": 3,
     "metadata": {},
     "output_type": "execute_result"
    }
   ],
   "source": [
    "data.head()"
   ]
  },
  {
   "cell_type": "markdown",
   "metadata": {},
   "source": [
    "## Explore US renewable energy consumption over time"
   ]
  },
  {
   "cell_type": "code",
   "execution_count": 4,
   "metadata": {},
   "outputs": [],
   "source": [
    "# Select USA and renewable energy consumption using dynamic values\n",
    "hist_indicator = 'EG.FEC.RNEW.ZS'\n",
    "hist_country = 'USA'\n",
    "\n",
    "maskindicator = data['IndicatorCode'] == hist_indicator \n",
    "maskcountry = data['CountryCode'].str.contains(hist_country)\n",
    "\n",
    "indicator_country = data[maskindicator & maskcountry]"
   ]
  },
  {
   "cell_type": "code",
   "execution_count": 5,
   "metadata": {},
   "outputs": [
    {
     "data": {
      "text/html": [
       "<div>\n",
       "<style scoped>\n",
       "    .dataframe tbody tr th:only-of-type {\n",
       "        vertical-align: middle;\n",
       "    }\n",
       "\n",
       "    .dataframe tbody tr th {\n",
       "        vertical-align: top;\n",
       "    }\n",
       "\n",
       "    .dataframe thead th {\n",
       "        text-align: right;\n",
       "    }\n",
       "</style>\n",
       "<table border=\"1\" class=\"dataframe\">\n",
       "  <thead>\n",
       "    <tr style=\"text-align: right;\">\n",
       "      <th></th>\n",
       "      <th>CountryName</th>\n",
       "      <th>CountryCode</th>\n",
       "      <th>IndicatorName</th>\n",
       "      <th>IndicatorCode</th>\n",
       "      <th>Year</th>\n",
       "      <th>Value</th>\n",
       "    </tr>\n",
       "  </thead>\n",
       "  <tbody>\n",
       "    <tr>\n",
       "      <th>1993157</th>\n",
       "      <td>United States</td>\n",
       "      <td>USA</td>\n",
       "      <td>Renewable energy consumption (% of total final...</td>\n",
       "      <td>EG.FEC.RNEW.ZS</td>\n",
       "      <td>1990</td>\n",
       "      <td>4.175463</td>\n",
       "    </tr>\n",
       "    <tr>\n",
       "      <th>2109111</th>\n",
       "      <td>United States</td>\n",
       "      <td>USA</td>\n",
       "      <td>Renewable energy consumption (% of total final...</td>\n",
       "      <td>EG.FEC.RNEW.ZS</td>\n",
       "      <td>1991</td>\n",
       "      <td>4.507920</td>\n",
       "    </tr>\n",
       "    <tr>\n",
       "      <th>2230357</th>\n",
       "      <td>United States</td>\n",
       "      <td>USA</td>\n",
       "      <td>Renewable energy consumption (% of total final...</td>\n",
       "      <td>EG.FEC.RNEW.ZS</td>\n",
       "      <td>1992</td>\n",
       "      <td>4.763084</td>\n",
       "    </tr>\n",
       "    <tr>\n",
       "      <th>2354131</th>\n",
       "      <td>United States</td>\n",
       "      <td>USA</td>\n",
       "      <td>Renewable energy consumption (% of total final...</td>\n",
       "      <td>EG.FEC.RNEW.ZS</td>\n",
       "      <td>1993</td>\n",
       "      <td>4.281529</td>\n",
       "    </tr>\n",
       "    <tr>\n",
       "      <th>2479805</th>\n",
       "      <td>United States</td>\n",
       "      <td>USA</td>\n",
       "      <td>Renewable energy consumption (% of total final...</td>\n",
       "      <td>EG.FEC.RNEW.ZS</td>\n",
       "      <td>1994</td>\n",
       "      <td>4.088641</td>\n",
       "    </tr>\n",
       "  </tbody>\n",
       "</table>\n",
       "</div>"
      ],
      "text/plain": [
       "           CountryName CountryCode  \\\n",
       "1993157  United States         USA   \n",
       "2109111  United States         USA   \n",
       "2230357  United States         USA   \n",
       "2354131  United States         USA   \n",
       "2479805  United States         USA   \n",
       "\n",
       "                                             IndicatorName   IndicatorCode  \\\n",
       "1993157  Renewable energy consumption (% of total final...  EG.FEC.RNEW.ZS   \n",
       "2109111  Renewable energy consumption (% of total final...  EG.FEC.RNEW.ZS   \n",
       "2230357  Renewable energy consumption (% of total final...  EG.FEC.RNEW.ZS   \n",
       "2354131  Renewable energy consumption (% of total final...  EG.FEC.RNEW.ZS   \n",
       "2479805  Renewable energy consumption (% of total final...  EG.FEC.RNEW.ZS   \n",
       "\n",
       "         Year     Value  \n",
       "1993157  1990  4.175463  \n",
       "2109111  1991  4.507920  \n",
       "2230357  1992  4.763084  \n",
       "2354131  1993  4.281529  \n",
       "2479805  1994  4.088641  "
      ]
     },
     "execution_count": 5,
     "metadata": {},
     "output_type": "execute_result"
    }
   ],
   "source": [
    "indicator_country.head()"
   ]
  },
  {
   "cell_type": "code",
   "execution_count": 6,
   "metadata": {},
   "outputs": [
    {
     "data": {
      "text/html": [
       "<div>\n",
       "<style scoped>\n",
       "    .dataframe tbody tr th:only-of-type {\n",
       "        vertical-align: middle;\n",
       "    }\n",
       "\n",
       "    .dataframe tbody tr th {\n",
       "        vertical-align: top;\n",
       "    }\n",
       "\n",
       "    .dataframe thead th {\n",
       "        text-align: right;\n",
       "    }\n",
       "</style>\n",
       "<table border=\"1\" class=\"dataframe\">\n",
       "  <thead>\n",
       "    <tr style=\"text-align: right;\">\n",
       "      <th></th>\n",
       "      <th>CountryName</th>\n",
       "      <th>CountryCode</th>\n",
       "      <th>IndicatorName</th>\n",
       "      <th>IndicatorCode</th>\n",
       "      <th>Year</th>\n",
       "      <th>Value</th>\n",
       "    </tr>\n",
       "  </thead>\n",
       "  <tbody>\n",
       "    <tr>\n",
       "      <th>4653166</th>\n",
       "      <td>United States</td>\n",
       "      <td>USA</td>\n",
       "      <td>Renewable energy consumption (% of total final...</td>\n",
       "      <td>EG.FEC.RNEW.ZS</td>\n",
       "      <td>2008</td>\n",
       "      <td>6.878847</td>\n",
       "    </tr>\n",
       "    <tr>\n",
       "      <th>4831834</th>\n",
       "      <td>United States</td>\n",
       "      <td>USA</td>\n",
       "      <td>Renewable energy consumption (% of total final...</td>\n",
       "      <td>EG.FEC.RNEW.ZS</td>\n",
       "      <td>2009</td>\n",
       "      <td>7.408772</td>\n",
       "    </tr>\n",
       "    <tr>\n",
       "      <th>5018572</th>\n",
       "      <td>United States</td>\n",
       "      <td>USA</td>\n",
       "      <td>Renewable energy consumption (% of total final...</td>\n",
       "      <td>EG.FEC.RNEW.ZS</td>\n",
       "      <td>2010</td>\n",
       "      <td>7.478928</td>\n",
       "    </tr>\n",
       "    <tr>\n",
       "      <th>5195209</th>\n",
       "      <td>United States</td>\n",
       "      <td>USA</td>\n",
       "      <td>Renewable energy consumption (% of total final...</td>\n",
       "      <td>EG.FEC.RNEW.ZS</td>\n",
       "      <td>2011</td>\n",
       "      <td>8.185443</td>\n",
       "    </tr>\n",
       "    <tr>\n",
       "      <th>5370375</th>\n",
       "      <td>United States</td>\n",
       "      <td>USA</td>\n",
       "      <td>Renewable energy consumption (% of total final...</td>\n",
       "      <td>EG.FEC.RNEW.ZS</td>\n",
       "      <td>2012</td>\n",
       "      <td>7.918396</td>\n",
       "    </tr>\n",
       "  </tbody>\n",
       "</table>\n",
       "</div>"
      ],
      "text/plain": [
       "           CountryName CountryCode  \\\n",
       "4653166  United States         USA   \n",
       "4831834  United States         USA   \n",
       "5018572  United States         USA   \n",
       "5195209  United States         USA   \n",
       "5370375  United States         USA   \n",
       "\n",
       "                                             IndicatorName   IndicatorCode  \\\n",
       "4653166  Renewable energy consumption (% of total final...  EG.FEC.RNEW.ZS   \n",
       "4831834  Renewable energy consumption (% of total final...  EG.FEC.RNEW.ZS   \n",
       "5018572  Renewable energy consumption (% of total final...  EG.FEC.RNEW.ZS   \n",
       "5195209  Renewable energy consumption (% of total final...  EG.FEC.RNEW.ZS   \n",
       "5370375  Renewable energy consumption (% of total final...  EG.FEC.RNEW.ZS   \n",
       "\n",
       "         Year     Value  \n",
       "4653166  2008  6.878847  \n",
       "4831834  2009  7.408772  \n",
       "5018572  2010  7.478928  \n",
       "5195209  2011  8.185443  \n",
       "5370375  2012  7.918396  "
      ]
     },
     "execution_count": 6,
     "metadata": {},
     "output_type": "execute_result"
    }
   ],
   "source": [
    "indicator_country.tail()"
   ]
  },
  {
   "cell_type": "markdown",
   "metadata": {},
   "source": [
    "Plot US renewable energy consumption over time in a bar chart"
   ]
  },
  {
   "cell_type": "code",
   "execution_count": 13,
   "metadata": {},
   "outputs": [
    {
     "data": {
      "text/html": [
       "<div>\n",
       "<style scoped>\n",
       "    .dataframe tbody tr th:only-of-type {\n",
       "        vertical-align: middle;\n",
       "    }\n",
       "\n",
       "    .dataframe tbody tr th {\n",
       "        vertical-align: top;\n",
       "    }\n",
       "\n",
       "    .dataframe thead th {\n",
       "        text-align: right;\n",
       "    }\n",
       "</style>\n",
       "<table border=\"1\" class=\"dataframe\">\n",
       "  <thead>\n",
       "    <tr style=\"text-align: right;\">\n",
       "      <th></th>\n",
       "      <th>Year</th>\n",
       "      <th>Value</th>\n",
       "    </tr>\n",
       "  </thead>\n",
       "  <tbody>\n",
       "    <tr>\n",
       "      <th>count</th>\n",
       "      <td>23.00000</td>\n",
       "      <td>23.000000</td>\n",
       "    </tr>\n",
       "    <tr>\n",
       "      <th>mean</th>\n",
       "      <td>2001.00000</td>\n",
       "      <td>5.577874</td>\n",
       "    </tr>\n",
       "    <tr>\n",
       "      <th>std</th>\n",
       "      <td>6.78233</td>\n",
       "      <td>1.261275</td>\n",
       "    </tr>\n",
       "    <tr>\n",
       "      <th>min</th>\n",
       "      <td>1990.00000</td>\n",
       "      <td>4.088641</td>\n",
       "    </tr>\n",
       "    <tr>\n",
       "      <th>25%</th>\n",
       "      <td>1995.50000</td>\n",
       "      <td>4.606434</td>\n",
       "    </tr>\n",
       "    <tr>\n",
       "      <th>50%</th>\n",
       "      <td>2001.00000</td>\n",
       "      <td>5.332036</td>\n",
       "    </tr>\n",
       "    <tr>\n",
       "      <th>75%</th>\n",
       "      <td>2006.50000</td>\n",
       "      <td>6.367303</td>\n",
       "    </tr>\n",
       "    <tr>\n",
       "      <th>max</th>\n",
       "      <td>2012.00000</td>\n",
       "      <td>8.185443</td>\n",
       "    </tr>\n",
       "  </tbody>\n",
       "</table>\n",
       "</div>"
      ],
      "text/plain": [
       "             Year      Value\n",
       "count    23.00000  23.000000\n",
       "mean   2001.00000   5.577874\n",
       "std       6.78233   1.261275\n",
       "min    1990.00000   4.088641\n",
       "25%    1995.50000   4.606434\n",
       "50%    2001.00000   5.332036\n",
       "75%    2006.50000   6.367303\n",
       "max    2012.00000   8.185443"
      ]
     },
     "execution_count": 13,
     "metadata": {},
     "output_type": "execute_result"
    }
   ],
   "source": [
    "# Descriptive statistics for USA renewable energy\n",
    "indicator_country.describe()"
   ]
  },
  {
   "cell_type": "code",
   "execution_count": 15,
   "metadata": {},
   "outputs": [
    {
     "data": {
      "image/png": "[encoded data removed]",
      "text/plain": [
       "<matplotlib.figure.Figure at 0x14c2dd304a8>"
      ]
     },
     "metadata": {},
     "output_type": "display_data"
    }
   ],
   "source": [
    "years = indicator_country['Year'].values\n",
    "ivalues = indicator_country['Value'].values\n",
    "\n",
    "plt.bar(years,ivalues)\n",
    "plt.show()"
   ]
  },
  {
   "cell_type": "markdown",
   "metadata": {},
   "source": [
    "Plot US renewable energy consumption over time in a line chart, style"
   ]
  },
  {
   "cell_type": "code",
   "execution_count": 16,
   "metadata": {},
   "outputs": [
    {
     "data": {
      "image/png": "[encoded data removed]",
      "text/plain": [
       "<matplotlib.figure.Figure at 0x14c19cafcf8>"
      ]
     },
     "metadata": {},
     "output_type": "display_data"
    }
   ],
   "source": [
    "plt.plot(indicator_country['Year'].values, indicator_country['Value'].values)\n",
    "\n",
    "# Label the axes\n",
    "plt.xlabel('Year')\n",
    "plt.ylabel('% of total energy consumption')\n",
    "\n",
    "# Label the figure\n",
    "plt.title('Renewable Energy Consumption in USA')\n",
    "\n",
    "# Set axis max, min\n",
    "plt.axis([1989, 2012,0,9])\n",
    "\n",
    "plt.show()"
   ]
  },
  {
   "cell_type": "markdown",
   "metadata": {},
   "source": [
    "_This line chart highlights that although the overall trend is for renewable energy consumption to increase, there are significant periods of stagnant or even decreasing renewable energy consumption._"
   ]
  },
  {
   "cell_type": "markdown",
   "metadata": {},
   "source": [
    "## Explore renewable energy consumption by country in 2012"
   ]
  },
  {
   "cell_type": "code",
   "execution_count": 19,
   "metadata": {},
   "outputs": [],
   "source": [
    "# Select percentage of renewable energy consumption in 2012 using dynamic values\n",
    "hist_indicator = 'EG.FEC.RNEW.ZS'\n",
    "hist_year = 2012\n",
    "\n",
    "maskindicator = data['IndicatorCode'] == hist_indicator\n",
    "maskyear = data['Year'] == hist_year\n",
    "\n",
    "indicator_year = data[maskindicator & maskyear]"
   ]
  },
  {
   "cell_type": "code",
   "execution_count": 21,
   "metadata": {},
   "outputs": [
    {
     "data": {
      "text/html": [
       "<div>\n",
       "<style scoped>\n",
       "    .dataframe tbody tr th:only-of-type {\n",
       "        vertical-align: middle;\n",
       "    }\n",
       "\n",
       "    .dataframe tbody tr th {\n",
       "        vertical-align: top;\n",
       "    }\n",
       "\n",
       "    .dataframe thead th {\n",
       "        text-align: right;\n",
       "    }\n",
       "</style>\n",
       "<table border=\"1\" class=\"dataframe\">\n",
       "  <thead>\n",
       "    <tr style=\"text-align: right;\">\n",
       "      <th></th>\n",
       "      <th>CountryName</th>\n",
       "      <th>CountryCode</th>\n",
       "      <th>IndicatorName</th>\n",
       "      <th>IndicatorCode</th>\n",
       "      <th>Year</th>\n",
       "      <th>Value</th>\n",
       "    </tr>\n",
       "  </thead>\n",
       "  <tbody>\n",
       "    <tr>\n",
       "      <th>5202731</th>\n",
       "      <td>Arab World</td>\n",
       "      <td>ARB</td>\n",
       "      <td>Renewable energy consumption (% of total final...</td>\n",
       "      <td>EG.FEC.RNEW.ZS</td>\n",
       "      <td>2012</td>\n",
       "      <td>4.644376</td>\n",
       "    </tr>\n",
       "    <tr>\n",
       "      <th>5203202</th>\n",
       "      <td>Caribbean small states</td>\n",
       "      <td>CSS</td>\n",
       "      <td>Renewable energy consumption (% of total final...</td>\n",
       "      <td>EG.FEC.RNEW.ZS</td>\n",
       "      <td>2012</td>\n",
       "      <td>5.239438</td>\n",
       "    </tr>\n",
       "    <tr>\n",
       "      <th>5203740</th>\n",
       "      <td>Central Europe and the Baltics</td>\n",
       "      <td>CEB</td>\n",
       "      <td>Renewable energy consumption (% of total final...</td>\n",
       "      <td>EG.FEC.RNEW.ZS</td>\n",
       "      <td>2012</td>\n",
       "      <td>14.564340</td>\n",
       "    </tr>\n",
       "    <tr>\n",
       "      <th>5204341</th>\n",
       "      <td>East Asia &amp; Pacific (all income levels)</td>\n",
       "      <td>EAS</td>\n",
       "      <td>Renewable energy consumption (% of total final...</td>\n",
       "      <td>EG.FEC.RNEW.ZS</td>\n",
       "      <td>2012</td>\n",
       "      <td>17.580267</td>\n",
       "    </tr>\n",
       "    <tr>\n",
       "      <th>5205115</th>\n",
       "      <td>East Asia &amp; Pacific (developing only)</td>\n",
       "      <td>EAP</td>\n",
       "      <td>Renewable energy consumption (% of total final...</td>\n",
       "      <td>EG.FEC.RNEW.ZS</td>\n",
       "      <td>2012</td>\n",
       "      <td>20.869498</td>\n",
       "    </tr>\n",
       "  </tbody>\n",
       "</table>\n",
       "</div>"
      ],
      "text/plain": [
       "                                     CountryName CountryCode  \\\n",
       "5202731                               Arab World         ARB   \n",
       "5203202                   Caribbean small states         CSS   \n",
       "5203740           Central Europe and the Baltics         CEB   \n",
       "5204341  East Asia & Pacific (all income levels)         EAS   \n",
       "5205115    East Asia & Pacific (developing only)         EAP   \n",
       "\n",
       "                                             IndicatorName   IndicatorCode  \\\n",
       "5202731  Renewable energy consumption (% of total final...  EG.FEC.RNEW.ZS   \n",
       "5203202  Renewable energy consumption (% of total final...  EG.FEC.RNEW.ZS   \n",
       "5203740  Renewable energy consumption (% of total final...  EG.FEC.RNEW.ZS   \n",
       "5204341  Renewable energy consumption (% of total final...  EG.FEC.RNEW.ZS   \n",
       "5205115  Renewable energy consumption (% of total final...  EG.FEC.RNEW.ZS   \n",
       "\n",
       "         Year      Value  \n",
       "5202731  2012   4.644376  \n",
       "5203202  2012   5.239438  \n",
       "5203740  2012  14.564340  \n",
       "5204341  2012  17.580267  \n",
       "5205115  2012  20.869498  "
      ]
     },
     "execution_count": 21,
     "metadata": {},
     "output_type": "execute_result"
    }
   ],
   "source": [
    "indicator_year.head()"
   ]
  },
  {
   "cell_type": "code",
   "execution_count": 22,
   "metadata": {},
   "outputs": [
    {
     "data": {
      "text/html": [
       "<div>\n",
       "<style scoped>\n",
       "    .dataframe tbody tr th:only-of-type {\n",
       "        vertical-align: middle;\n",
       "    }\n",
       "\n",
       "    .dataframe tbody tr th {\n",
       "        vertical-align: top;\n",
       "    }\n",
       "\n",
       "    .dataframe thead th {\n",
       "        text-align: right;\n",
       "    }\n",
       "</style>\n",
       "<table border=\"1\" class=\"dataframe\">\n",
       "  <thead>\n",
       "    <tr style=\"text-align: right;\">\n",
       "      <th></th>\n",
       "      <th>CountryName</th>\n",
       "      <th>CountryCode</th>\n",
       "      <th>IndicatorName</th>\n",
       "      <th>IndicatorCode</th>\n",
       "      <th>Year</th>\n",
       "      <th>Value</th>\n",
       "    </tr>\n",
       "  </thead>\n",
       "  <tbody>\n",
       "    <tr>\n",
       "      <th>5373295</th>\n",
       "      <td>Venezuela, RB</td>\n",
       "      <td>VEN</td>\n",
       "      <td>Renewable energy consumption (% of total final...</td>\n",
       "      <td>EG.FEC.RNEW.ZS</td>\n",
       "      <td>2012</td>\n",
       "      <td>11.197541</td>\n",
       "    </tr>\n",
       "    <tr>\n",
       "      <th>5374233</th>\n",
       "      <td>Vietnam</td>\n",
       "      <td>VNM</td>\n",
       "      <td>Renewable energy consumption (% of total final...</td>\n",
       "      <td>EG.FEC.RNEW.ZS</td>\n",
       "      <td>2012</td>\n",
       "      <td>35.579242</td>\n",
       "    </tr>\n",
       "    <tr>\n",
       "      <th>5375648</th>\n",
       "      <td>Yemen, Rep.</td>\n",
       "      <td>YEM</td>\n",
       "      <td>Renewable energy consumption (% of total final...</td>\n",
       "      <td>EG.FEC.RNEW.ZS</td>\n",
       "      <td>2012</td>\n",
       "      <td>1.000756</td>\n",
       "    </tr>\n",
       "    <tr>\n",
       "      <th>5376504</th>\n",
       "      <td>Zambia</td>\n",
       "      <td>ZMB</td>\n",
       "      <td>Renewable energy consumption (% of total final...</td>\n",
       "      <td>EG.FEC.RNEW.ZS</td>\n",
       "      <td>2012</td>\n",
       "      <td>88.152128</td>\n",
       "    </tr>\n",
       "    <tr>\n",
       "      <th>5377349</th>\n",
       "      <td>Zimbabwe</td>\n",
       "      <td>ZWE</td>\n",
       "      <td>Renewable energy consumption (% of total final...</td>\n",
       "      <td>EG.FEC.RNEW.ZS</td>\n",
       "      <td>2012</td>\n",
       "      <td>75.602532</td>\n",
       "    </tr>\n",
       "  </tbody>\n",
       "</table>\n",
       "</div>"
      ],
      "text/plain": [
       "           CountryName CountryCode  \\\n",
       "5373295  Venezuela, RB         VEN   \n",
       "5374233        Vietnam         VNM   \n",
       "5375648    Yemen, Rep.         YEM   \n",
       "5376504         Zambia         ZMB   \n",
       "5377349       Zimbabwe         ZWE   \n",
       "\n",
       "                                             IndicatorName   IndicatorCode  \\\n",
       "5373295  Renewable energy consumption (% of total final...  EG.FEC.RNEW.ZS   \n",
       "5374233  Renewable energy consumption (% of total final...  EG.FEC.RNEW.ZS   \n",
       "5375648  Renewable energy consumption (% of total final...  EG.FEC.RNEW.ZS   \n",
       "5376504  Renewable energy consumption (% of total final...  EG.FEC.RNEW.ZS   \n",
       "5377349  Renewable energy consumption (% of total final...  EG.FEC.RNEW.ZS   \n",
       "\n",
       "         Year      Value  \n",
       "5373295  2012  11.197541  \n",
       "5374233  2012  35.579242  \n",
       "5375648  2012   1.000756  \n",
       "5376504  2012  88.152128  \n",
       "5377349  2012  75.602532  "
      ]
     },
     "execution_count": 22,
     "metadata": {},
     "output_type": "execute_result"
    }
   ],
   "source": [
    "indicator_year.tail()"
   ]
  },
  {
   "cell_type": "code",
   "execution_count": 23,
   "metadata": {
    "scrolled": true
   },
   "outputs": [
    {
     "name": "stdout",
     "output_type": "stream",
     "text": [
      "161\n"
     ]
    }
   ],
   "source": [
    "# How many countries have renewable energy consumption data in 2012?\n",
    "print(len(indicator_year))"
   ]
  },
  {
   "cell_type": "code",
   "execution_count": 24,
   "metadata": {},
   "outputs": [
    {
     "data": {
      "image/png": "[encoded data removed]",
      "text/plain": [
       "<matplotlib.figure.Figure at 0x14c1938de48>"
      ]
     },
     "metadata": {},
     "output_type": "display_data"
    }
   ],
   "source": [
    "# Plot a histogram of of renewable energy consumption in 2012 by country\n",
    "\n",
    "# Subplots returns a tuple with the figure, axis attributes\n",
    "fig, ax = plt.subplots()\n",
    "\n",
    "ax.annotate(\"USA, 7.9%\",\n",
    "            xy=(8, 45), xycoords='data',\n",
    "            xytext=(15, 45), textcoords='data',\n",
    "            arrowprops=dict(arrowstyle=\"->\",\n",
    "                            connectionstyle=\"arc3\"),\n",
    "            )\n",
    "\n",
    "plt.hist(indicator_year['Value'], 10, normed=False, facecolor='green')\n",
    "\n",
    "plt.xlabel('% of total energy consumption')\n",
    "plt.ylabel('# of Countries')\n",
    "plt.title('Histogram of Renewable Energy Consumption in 2012')\n",
    "\n",
    "plt.grid(True)\n",
    "\n",
    "plt.show()"
   ]
  },
  {
   "cell_type": "markdown",
   "metadata": {},
   "source": [
    "_Although the percentage of the total energy consumed that is renewable is relatively low in the US, this histogram makes it clear that similar levels of energy consumption are most common (about 28% of countries fall into the lowest category of approximately 0-8% renewable energy consumption)._"
   ]
  },
  {
   "cell_type": "markdown",
   "metadata": {},
   "source": [
    "## Plot relationship between renewable energy consumption and GDI"
   ]
  },
  {
   "cell_type": "code",
   "execution_count": 26,
   "metadata": {},
   "outputs": [],
   "source": [
    "# Select GDI for the United States\n",
    "hist_indicator2 = 'NY.GDY.TOTL.KD'\n",
    "hist_country = 'USA'\n",
    "\n",
    "maskindicator2 = data['IndicatorCode'] == hist_indicator2\n",
    "maskcountry = data['CountryCode'].str.contains(hist_country)\n",
    "\n",
    "indicator2_country = data[maskindicator2 & maskcountry]"
   ]
  },
  {
   "cell_type": "code",
   "execution_count": 27,
   "metadata": {},
   "outputs": [
    {
     "data": {
      "text/html": [
       "<div>\n",
       "<style scoped>\n",
       "    .dataframe tbody tr th:only-of-type {\n",
       "        vertical-align: middle;\n",
       "    }\n",
       "\n",
       "    .dataframe tbody tr th {\n",
       "        vertical-align: top;\n",
       "    }\n",
       "\n",
       "    .dataframe thead th {\n",
       "        text-align: right;\n",
       "    }\n",
       "</style>\n",
       "<table border=\"1\" class=\"dataframe\">\n",
       "  <thead>\n",
       "    <tr style=\"text-align: right;\">\n",
       "      <th></th>\n",
       "      <th>CountryName</th>\n",
       "      <th>CountryCode</th>\n",
       "      <th>IndicatorName</th>\n",
       "      <th>IndicatorCode</th>\n",
       "      <th>Year</th>\n",
       "      <th>Value</th>\n",
       "    </tr>\n",
       "  </thead>\n",
       "  <tbody>\n",
       "    <tr>\n",
       "      <th>22295</th>\n",
       "      <td>United States</td>\n",
       "      <td>USA</td>\n",
       "      <td>Gross domestic income (constant 2005 US$)</td>\n",
       "      <td>NY.GDY.TOTL.KD</td>\n",
       "      <td>1960</td>\n",
       "      <td>2.576300e+12</td>\n",
       "    </tr>\n",
       "    <tr>\n",
       "      <th>48773</th>\n",
       "      <td>United States</td>\n",
       "      <td>USA</td>\n",
       "      <td>Gross domestic income (constant 2005 US$)</td>\n",
       "      <td>NY.GDY.TOTL.KD</td>\n",
       "      <td>1961</td>\n",
       "      <td>2.646300e+12</td>\n",
       "    </tr>\n",
       "    <tr>\n",
       "      <th>77158</th>\n",
       "      <td>United States</td>\n",
       "      <td>USA</td>\n",
       "      <td>Gross domestic income (constant 2005 US$)</td>\n",
       "      <td>NY.GDY.TOTL.KD</td>\n",
       "      <td>1962</td>\n",
       "      <td>2.785200e+12</td>\n",
       "    </tr>\n",
       "    <tr>\n",
       "      <th>105776</th>\n",
       "      <td>United States</td>\n",
       "      <td>USA</td>\n",
       "      <td>Gross domestic income (constant 2005 US$)</td>\n",
       "      <td>NY.GDY.TOTL.KD</td>\n",
       "      <td>1963</td>\n",
       "      <td>2.896600e+12</td>\n",
       "    </tr>\n",
       "    <tr>\n",
       "      <th>134814</th>\n",
       "      <td>United States</td>\n",
       "      <td>USA</td>\n",
       "      <td>Gross domestic income (constant 2005 US$)</td>\n",
       "      <td>NY.GDY.TOTL.KD</td>\n",
       "      <td>1964</td>\n",
       "      <td>3.057500e+12</td>\n",
       "    </tr>\n",
       "  </tbody>\n",
       "</table>\n",
       "</div>"
      ],
      "text/plain": [
       "          CountryName CountryCode                              IndicatorName  \\\n",
       "22295   United States         USA  Gross domestic income (constant 2005 US$)   \n",
       "48773   United States         USA  Gross domestic income (constant 2005 US$)   \n",
       "77158   United States         USA  Gross domestic income (constant 2005 US$)   \n",
       "105776  United States         USA  Gross domestic income (constant 2005 US$)   \n",
       "134814  United States         USA  Gross domestic income (constant 2005 US$)   \n",
       "\n",
       "         IndicatorCode  Year         Value  \n",
       "22295   NY.GDY.TOTL.KD  1960  2.576300e+12  \n",
       "48773   NY.GDY.TOTL.KD  1961  2.646300e+12  \n",
       "77158   NY.GDY.TOTL.KD  1962  2.785200e+12  \n",
       "105776  NY.GDY.TOTL.KD  1963  2.896600e+12  \n",
       "134814  NY.GDY.TOTL.KD  1964  3.057500e+12  "
      ]
     },
     "execution_count": 27,
     "metadata": {},
     "output_type": "execute_result"
    }
   ],
   "source": [
    "indicator2_country.head()"
   ]
  },
  {
   "cell_type": "code",
   "execution_count": 28,
   "metadata": {},
   "outputs": [
    {
     "data": {
      "text/html": [
       "<div>\n",
       "<style scoped>\n",
       "    .dataframe tbody tr th:only-of-type {\n",
       "        vertical-align: middle;\n",
       "    }\n",
       "\n",
       "    .dataframe tbody tr th {\n",
       "        vertical-align: top;\n",
       "    }\n",
       "\n",
       "    .dataframe thead th {\n",
       "        text-align: right;\n",
       "    }\n",
       "</style>\n",
       "<table border=\"1\" class=\"dataframe\">\n",
       "  <thead>\n",
       "    <tr style=\"text-align: right;\">\n",
       "      <th></th>\n",
       "      <th>CountryName</th>\n",
       "      <th>CountryCode</th>\n",
       "      <th>IndicatorName</th>\n",
       "      <th>IndicatorCode</th>\n",
       "      <th>Year</th>\n",
       "      <th>Value</th>\n",
       "    </tr>\n",
       "  </thead>\n",
       "  <tbody>\n",
       "    <tr>\n",
       "      <th>3624359</th>\n",
       "      <td>United States</td>\n",
       "      <td>USA</td>\n",
       "      <td>Gross domestic income (constant 2005 US$)</td>\n",
       "      <td>NY.GDY.TOTL.KD</td>\n",
       "      <td>2002</td>\n",
       "      <td>1.002800e+13</td>\n",
       "    </tr>\n",
       "    <tr>\n",
       "      <th>3778128</th>\n",
       "      <td>United States</td>\n",
       "      <td>USA</td>\n",
       "      <td>Gross domestic income (constant 2005 US$)</td>\n",
       "      <td>NY.GDY.TOTL.KD</td>\n",
       "      <td>2003</td>\n",
       "      <td>1.026800e+13</td>\n",
       "    </tr>\n",
       "    <tr>\n",
       "      <th>3935872</th>\n",
       "      <td>United States</td>\n",
       "      <td>USA</td>\n",
       "      <td>Gross domestic income (constant 2005 US$)</td>\n",
       "      <td>NY.GDY.TOTL.KD</td>\n",
       "      <td>2004</td>\n",
       "      <td>1.062900e+13</td>\n",
       "    </tr>\n",
       "    <tr>\n",
       "      <th>4115494</th>\n",
       "      <td>United States</td>\n",
       "      <td>USA</td>\n",
       "      <td>Gross domestic income (constant 2005 US$)</td>\n",
       "      <td>NY.GDY.TOTL.KD</td>\n",
       "      <td>2005</td>\n",
       "      <td>1.092600e+13</td>\n",
       "    </tr>\n",
       "    <tr>\n",
       "      <th>4292687</th>\n",
       "      <td>United States</td>\n",
       "      <td>USA</td>\n",
       "      <td>Gross domestic income (constant 2005 US$)</td>\n",
       "      <td>NY.GDY.TOTL.KD</td>\n",
       "      <td>2006</td>\n",
       "      <td>1.123100e+13</td>\n",
       "    </tr>\n",
       "  </tbody>\n",
       "</table>\n",
       "</div>"
      ],
      "text/plain": [
       "           CountryName CountryCode                              IndicatorName  \\\n",
       "3624359  United States         USA  Gross domestic income (constant 2005 US$)   \n",
       "3778128  United States         USA  Gross domestic income (constant 2005 US$)   \n",
       "3935872  United States         USA  Gross domestic income (constant 2005 US$)   \n",
       "4115494  United States         USA  Gross domestic income (constant 2005 US$)   \n",
       "4292687  United States         USA  Gross domestic income (constant 2005 US$)   \n",
       "\n",
       "          IndicatorCode  Year         Value  \n",
       "3624359  NY.GDY.TOTL.KD  2002  1.002800e+13  \n",
       "3778128  NY.GDY.TOTL.KD  2003  1.026800e+13  \n",
       "3935872  NY.GDY.TOTL.KD  2004  1.062900e+13  \n",
       "4115494  NY.GDY.TOTL.KD  2005  1.092600e+13  \n",
       "4292687  NY.GDY.TOTL.KD  2006  1.123100e+13  "
      ]
     },
     "execution_count": 28,
     "metadata": {},
     "output_type": "execute_result"
    }
   ],
   "source": [
    "indicator2_country.tail()"
   ]
  },
  {
   "cell_type": "code",
   "execution_count": 29,
   "metadata": {},
   "outputs": [
    {
     "data": {
      "image/png": "[encoded data removed]",
      "text/plain": [
       "<matplotlib.figure.Figure at 0x14c195f2cc0>"
      ]
     },
     "metadata": {},
     "output_type": "display_data"
    }
   ],
   "source": [
    "# Plot USA GDI over time\n",
    "plt.plot(indicator2_country['Year'].values, indicator2_country['Value'].values)\n",
    "\n",
    "# Label the axes\n",
    "plt.xlabel('Year')\n",
    "plt.ylabel('Gross Domestic Income (in trillions)')\n",
    "\n",
    "# label the figure\n",
    "plt.title('USA Gross Domestic Income (2005 US$)')\n",
    "\n",
    "# Set axis ranges\n",
    "plt.axis([1959, 2010,0,12000000000000])\n",
    "\n",
    "plt.show()"
   ]
  },
  {
   "cell_type": "markdown",
   "metadata": {},
   "source": [
    "_The line plot indicates that the USA GDI increased fairly steadily between 1960 and 2006._"
   ]
  },
  {
   "cell_type": "markdown",
   "metadata": {},
   "source": [
    "## Plot a scatterplot comparing renewable energy consumption and GDI"
   ]
  },
  {
   "cell_type": "code",
   "execution_count": 30,
   "metadata": {},
   "outputs": [
    {
     "name": "stdout",
     "output_type": "stream",
     "text": [
      "17\n",
      "17\n"
     ]
    }
   ],
   "source": [
    "# Trim data to 1990-2006 (scatterplot requires equal length arrays)\n",
    "indicator2_country_trunc = indicator2_country[indicator2_country['Year'] >= 1990]\n",
    "print(len(indicator2_country_trunc))\n",
    "indicator_country_trunc = indicator_country[indicator_country['Year'] <= 2006]\n",
    "print(len(indicator_country_trunc))"
   ]
  },
  {
   "cell_type": "code",
   "execution_count": 31,
   "metadata": {},
   "outputs": [
    {
     "data": {
      "image/png": "[encoded data removed]",
      "text/plain": [
       "<matplotlib.figure.Figure at 0x14c1964db38>"
      ]
     },
     "metadata": {},
     "output_type": "display_data"
    }
   ],
   "source": [
    "%matplotlib inline\n",
    "import matplotlib.pyplot as plt\n",
    "\n",
    "fig, axis = plt.subplots()\n",
    "\n",
    "# Set grid lines, Xticks, Xlabel, Ylabel\n",
    "axis.yaxis.grid(True)\n",
    "axis.set_title('Renewable Energy Consumption by GDI',fontsize=10)\n",
    "axis.set_xlabel(indicator2_country_trunc['IndicatorName'].iloc[0],fontsize=10)\n",
    "axis.set_ylabel('Renewable energy consumption (% total energy)',fontsize=10)\n",
    "\n",
    "X = indicator2_country_trunc['Value']\n",
    "Y = indicator_country_trunc['Value']\n",
    "\n",
    "# Set axis ranges\n",
    "plt.axis([6000000000000, 12000000000000,0,6.5])\n",
    "\n",
    "axis.scatter(X, Y)\n",
    "plt.show()"
   ]
  },
  {
   "cell_type": "markdown",
   "metadata": {},
   "source": [
    "_The scatterplot suggests a positive correlation between renewable energy consumption and GDI._"
   ]
  },
  {
   "cell_type": "code",
   "execution_count": 32,
   "metadata": {},
   "outputs": [
    {
     "data": {
      "text/plain": [
       "array([[1.        , 0.81959032],\n",
       "       [0.81959032, 1.        ]])"
      ]
     },
     "execution_count": 32,
     "metadata": {},
     "output_type": "execute_result"
    }
   ],
   "source": [
    "# Check correlation coefficient\n",
    "np.corrcoef(indicator2_country_trunc['Value'],indicator_country_trunc['Value'])"
   ]
  },
  {
   "cell_type": "markdown",
   "metadata": {},
   "source": [
    "_A .8 correlation is positive and very strong, indicating that in the US, renewable energy consumption increases as GDI increases._"
   ]
  }
 ],
 "metadata": {
  "kernelspec": {
   "display_name": "Python 3",
   "language": "python",
   "name": "python3"
  },
  "language_info": {
   "codemirror_mode": {
    "name": "ipython",
    "version": 3
   },
   "file_extension": ".py",
   "mimetype": "text/x-python",
   "name": "python",
   "nbconvert_exporter": "python",
   "pygments_lexer": "ipython3",
   "version": "3.6.4"
  }
 },
 "nbformat": 4,
 "nbformat_minor": 2
}
